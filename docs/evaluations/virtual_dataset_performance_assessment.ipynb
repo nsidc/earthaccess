{
 "cells": [
  {
   "cell_type": "markdown",
   "id": "0bebc34d-64a9-4961-accd-e3eece6aad5f",
   "metadata": {},
   "source": [
    "# Assessing performance of various methods to open NASA Earthdata data\n",
    "\n",
    "\n",
    "## Summary\n",
    "\n",
    "This notebook started and currently uses TEMPO Level-3 data for its test cases. For access patterns, we begin by focusing on using the relatively new `earthaccess.open_virtual_mfdataset()` functionality. Further discussion of this effort can be found in [this `earthaccess` GitHub discussion](https://github.com/nsidc/earthaccess/discussions/987).\n",
    "\n",
    "## Prerequisites\n",
    "\n",
    "- **AWS US-West-2 Environment:** This tutorial has been designed to run in an AWS cloud compute instance in AWS region us-west-2. However, if you want to run it from your laptop or workstation, everything should work just fine but without the speed benefits of in-cloud access.\n",
    "\n",
    "- **Earthdata Account:** A (free!) Earthdata Login account is required to access data from the NASA Earthdata system. Before requesting TEMPO data, we first need to set up our Earthdata Login authentication, as described in the Earthdata Cookbook's [earthaccess tutorial (link)](https://nasa-openscapes.github.io/earthdata-cloud-cookbook/tutorials/earthaccess-demo.html).\n",
    "\n",
    "- **Packages:**\n",
    "\n",
    "  - `cartopy`\n",
    "  - `dask`\n",
    "  - `earthaccess` **version 0.14.0 or greater**\n",
    "  - `matplotlib`\n",
    "  - `numpy`\n",
    "  - `xarray`"
   ]
  },
  {
   "cell_type": "markdown",
   "id": "d64bfa3b-108e-47d1-a24c-4bdcda59e5c8",
   "metadata": {},
   "source": [
    "# Test Report (so far)\n",
    "\n",
    "\n",
    "## Approach for Initial Test Case(s)\n",
    "---\n",
    "\n",
    "#### Data\n",
    "\n",
    "The tests in this notebook leverage data from the Nitrogen Dioxide ($NO_2$) Level-3 data collection of the [TEMPO air quality mission (link)](https://asdc.larc.nasa.gov/project/TEMPO). TEMPO Level-3 data are stored in granules that are each ~500 MB. Thus, a year's worth of data is about $500*4867/1024/1024 = 2.3 \\text{ TB}$.\n",
    "\n",
    "#### Methods\n",
    "\n",
    "We use multiple functions, including the relatively new `earthaccess.open_virtual_mfdataset()` function, to open, stream, or download the data and/or metadata from granules such that we can then calculate means for a subset of the data and visualize the results.\n",
    "\n",
    "Test cases utilize the following functions/function chains:\n",
    "- Single granule cases:\n",
    "  - **Case 1:** `earthaccess.open_virtual_dataset()`\n",
    "  - **Case 2:** `xr.open_dataset(earthaccess.open())`\n",
    "- Multi-granule cases:\n",
    "  - **Case 3:** `earthaccess.open_virtual_mfdataset()`\n",
    "  - **Case 4:** `earthaccess.download()`\n",
    "\n",
    "#### Benchmarking\n",
    "\n",
    "To facilitate comparisons, times reported for opening one file are extrapolated to an estimated time it would take to open all 4,867 TEMPO Level-3 granules in the 2024–2025 \"year-long\" analysis scenario, while assuming the year-long scenario would be performed using the Openscapes Hub's default of 4 CPUs. And where appropriate, times are converted to more easily readable units. For example, for Cases **1** and **2**, the following equation is used to convert from time (in seconds) for opening one file ($x$) to estimated time (in hours) for all granules in a year-long scenario ($y$): \n",
    "$$\n",
    "  x \\text{ time (s) for one granule} * \n",
    "  \\frac{4867 \\text{ granules}}{1 \\text{ granule}} * \n",
    "  \\frac{1 \\text{ min}}{60 \\text{ s}} * \n",
    "  \\frac{1}{4 \\text{ CPUs}} * \n",
    "  \\frac{1 \\text{ hr}}{60 \\text{ min}} =\n",
    "  y \\text{ time (hr) for all granules per CPU}\n",
    "$$\n",
    "\n",
    "For Case **3**, the following equation is used to estimate a time (in miliseconds) for a single granule ($y$) from the time (in seconds) it takes to open all granules ($x$):\n",
    "\n",
    "$$\n",
    "  x \\text{ time (s) for all granules} * \n",
    "  \\frac{1 \\text{ granule}}{4867 \\text{ granules}} * \n",
    "  \\frac{1000 \\text{ ms}}{1 \\text{ s}} * =\n",
    "  y \\text{ time (ms) for one granule}\n",
    "$$\n",
    "\n",
    "For Case **4**, the following equation is used to estimate time (in hours) for all granules in a year-long scneario ($y$) from the time (in seconds) it takes to open 10 granules ($x$):\n",
    "\n",
    "$$\n",
    "  x \\text{ time (s) for 10 granules} * \n",
    "  \\frac{4867 \\text{ granules}}{10 \\text{ granules}} * \n",
    "  \\frac{1 \\text{ min}}{60 \\text{ s}} *\n",
    "  \\frac{1 \\text{ hr}}{60 \\text{ min}} =\n",
    "  y \\text{ time (hr) for all granules}\n",
    "$$\n",
    "\n",
    "## Results\n",
    "---\n",
    " \n",
    "### Case 1 – Opening as virtual dataset – using `earthaccess.open_virtual_dataset()`:\n",
    "\n",
    "with \n",
    "```python\n",
    "open_options = {\n",
    "    \"access\": \"direct\",\n",
    "    \"load\": True\n",
    "}\n",
    "```\n",
    "\n",
    "| Run          | Wall time  | Wall time extrapolated to all granules | CPU time    | CPU time extrapolated to all granules |\n",
    "| :-           | :--------- | :-                                     | :-          | :-                                    |\n",
    "| 1            | 235 ms     | 0.08 hr = 4.8 min                      | 46.5 ms     | 0.016 hr = 56 s                       |\n",
    "| 2            | 881 ms     | 0.30 hr = 17.9 min                     | 54.9 ms     | 0.019 hr = 67 s                       |\n",
    "| 3            | 281 ms     | 0.09 hr = 5.7 min                      | 56.0 ms     | 0.019 hr = 68 s                       |\n",
    "| 4            | 249 ms     | 0.08 hr = 5.0 min                      | 53.7 ms     | 0.018 hr = 65 s                       |\n",
    "| **Average:** | **411 ms** | **0.14 hr = 8.4 min**                  | **52.8 ms** | **0.018 hr = 64 s**                   |\n",
    "\n",
    "### Case 2 – Streaming the data – using `xr.open_dataset(earthaccess.open([results[0]])[0])`\n",
    "\n",
    "| Run          | Wall time  | Extrapolated to all granules | CPU time   | CPU time extrapolated to all granules |\n",
    "| :-           | :--------- | :-                           | :-         | :-                                    |\n",
    "| 1            | 17.5 s     | 5.9 hr                       | 6.11 s     | 2.1 hr                                |\n",
    "| 2            | 12.3 s     | 4.2 hr                       | 5.16 s     | 1.7 hr                                |\n",
    "| 3            | 12.4 s     | 4.2 hr                       | 5.22 s     | 1.8 hr                                |\n",
    "| 4            | 12.5 s     | 4.2 hr                       | 5.08 s     | 1.7 hr                                |\n",
    "| **Average:** | **13.7 s** | **4.6 hr**                   | **5.39 s** | **1.8 hr**                            | \n",
    "\n",
    "\n",
    "### Case 3 – Opening as virtual dataset – using `earthaccess.open_virtual_mfdataset()`\n",
    "\n",
    "with\n",
    "```python\n",
    "open_options = {\n",
    "    \"access\": \"direct\",\n",
    "    \"load\": True,\n",
    "    \"concat_dim\": \"time\",\n",
    "    \"coords\": \"minimal\",\n",
    "    \"compat\": \"override\",\n",
    "    \"join\": \"override\",\n",
    "    \"combine_attrs\": \"override\",\n",
    "    \"parallel\": True,\n",
    "}\n",
    "```\n",
    "And note that these times represent working with the \"root\" group of the netCDF.\n",
    "\n",
    "| Run          | Wall time all granules | Wall time estimate for one granule | CPU time all granules  |\n",
    "| :-           | :---------             | :-                                 | :-                     |\n",
    "| 1            | 245 s                  | 50 ms                              | 85 s                   |\n",
    "| 2            | 238 s                  | 49 ms                              | 84 s                   |\n",
    "| 3            | 235 s                  | 48 ms                              | 85 s                   |\n",
    "| 4            | 231 s                  | 47 ms                              | 84 s                   |\n",
    "| **Average:** | **237 s**              | **48.5 ms**                        | **84.5 s**             |\n",
    "\n",
    "\n",
    "### Case 4 - Downloading – using earthaccess.download(results[0:10], local_path=\"/tmp/\")\n",
    "\n",
    "| Run          | Wall time 10 granules | Wall time estimate for all granules | CPU time 10 granules  |\n",
    "| :-           | :---------             | :-                                 | :-                     |\n",
    "| 1            | 178 s                  | 24 hr                              | 19 s                   |\n",
    "| 2            | 186 s                  | 25 hr                              | 26 s                   |\n",
    "| 3            | 160 s                  | 22 hr                              | 21 s                   |\n",
    "| 4            | 172 s                  | 23 hr                              | 32 s                   |\n",
    "| **Average:** | **174 s**              | **23.5 hr**                        | **24.5 s**             |"
   ]
  },
  {
   "cell_type": "markdown",
   "id": "9ab9d476-5186-4da8-8329-1270e6e925bd",
   "metadata": {},
   "source": [
    "# Setup"
   ]
  },
  {
   "cell_type": "code",
   "execution_count": 34,
   "id": "aa4a11af-f182-4021-ad6f-8b198d6bdbde",
   "metadata": {},
   "outputs": [],
   "source": [
    "import cartopy.crs as ccrs\n",
    "import earthaccess\n",
    "import matplotlib.pyplot as plt\n",
    "import numpy as np\n",
    "import xarray as xr\n",
    "from dask.diagnostics import ProgressBar\n",
    "from matplotlib import rcParams\n",
    "\n",
    "%config InlineBackend.figure_format = 'jpeg'\n",
    "rcParams[\"figure.dpi\"] = (\n",
    "    80  # Reduce figure resolution to keep the saved size of this notebook low.\n",
    ")\n",
    "\n",
    "pbar = ProgressBar()\n",
    "pbar.register()  # Set the ProgressBar to indicate progress for the minutes-long open steps."
   ]
  },
  {
   "cell_type": "markdown",
   "id": "e44ec322-40a3-419d-bd5f-6e86bc5c3103",
   "metadata": {},
   "source": [
    "#### Methods used for calculating and converting results' timings"
   ]
  },
  {
   "cell_type": "code",
   "execution_count": 2,
   "id": "8bff4406-e01c-4788-81a5-37293d5adcf8",
   "metadata": {},
   "outputs": [],
   "source": [
    "# Function for creating table at top of notebook.\n",
    "def granule_time_in_seconds_to_year_of_granules_time_in_hours(\n",
    "    input_time: float | list[float],\n",
    ") -> np.array:\n",
    "    return np.asarray(input_time) * 4867 / 60 / 4 / 60"
   ]
  },
  {
   "cell_type": "code",
   "execution_count": null,
   "id": "590795f0-167c-4549-9f95-db441ce87e39",
   "metadata": {},
   "outputs": [],
   "source": [
    "# np.mean(granule_time_in_seconds_to_year_of_granules_time_in_hours([6.11, 5.16, 5.22, 5.08]))"
   ]
  },
  {
   "cell_type": "code",
   "execution_count": null,
   "id": "53ce8bc9-b02e-44ef-a151-b036f4020347",
   "metadata": {},
   "outputs": [],
   "source": [
    "# np.mean([6.11, 5.16, 5.22, 5.08])"
   ]
  },
  {
   "cell_type": "markdown",
   "id": "1c5f134f-f9d0-4427-9561-b5e7604748d9",
   "metadata": {},
   "source": [
    "## Login using the Earthdata Login"
   ]
  },
  {
   "cell_type": "code",
   "execution_count": 3,
   "id": "198318d6-2850-450e-9df0-dd0895ee985d",
   "metadata": {},
   "outputs": [
    {
     "name": "stdout",
     "output_type": "stream",
     "text": [
      "0.14.0\n"
     ]
    }
   ],
   "source": [
    "auth = earthaccess.login()  # earthaccess.system.UAT)\n",
    "\n",
    "if not auth.authenticated:\n",
    "    auth.login(\n",
    "        strategy=\"interactive\", persist=True\n",
    "    )  # ask for credentials and persist them in a .netrc file\n",
    "\n",
    "print(earthaccess.__version__)"
   ]
  },
  {
   "cell_type": "markdown",
   "id": "e961e6f5-25fb-4770-94c8-2f6592225d0b",
   "metadata": {},
   "source": [
    "# TEMPO $NO_2$ Level-3 Data Tests"
   ]
  },
  {
   "cell_type": "markdown",
   "id": "86a3e22a-3af7-4584-9517-7993a8bad9c0",
   "metadata": {},
   "source": [
    "## Search for data granules"
   ]
  },
  {
   "cell_type": "markdown",
   "id": "4b70e220-893c-4451-bfaa-c01e14e0b577",
   "metadata": {},
   "source": [
    "We search for TEMPO Nitrogen Dioxide ($NO_2$) data for a year-long period (note: times are in UTC) betwee January, 2024 and 2025."
   ]
  },
  {
   "cell_type": "code",
   "execution_count": 4,
   "id": "bd50079f-6b8b-424d-8a12-36416f4d69ff",
   "metadata": {},
   "outputs": [
    {
     "name": "stdout",
     "output_type": "stream",
     "text": [
      "Number of results: 4990\n",
      "CPU times: user 821 ms, sys: 118 ms, total: 939 ms\n",
      "Wall time: 14.8 s\n"
     ]
    }
   ],
   "source": [
    "%%time\n",
    "results = earthaccess.search_data(\n",
    "    short_name=\"TEMPO_NO2_L3\",\n",
    "    version=\"V03\",\n",
    "    temporal=(\"2024-01-11 12:00\", \"2025-01-11 12:00\"),\n",
    ")\n",
    "print(f\"Number of results: {len(results)}\")"
   ]
  },
  {
   "cell_type": "markdown",
   "id": "040b0a55-45e8-41c3-a36f-94b7e40f7866",
   "metadata": {},
   "source": [
    "## Opening a Single Granule"
   ]
  },
  {
   "cell_type": "markdown",
   "id": "2175776e-cca3-4ddd-8798-e2d38d3d5174",
   "metadata": {},
   "source": [
    "### Case 1"
   ]
  },
  {
   "cell_type": "code",
   "execution_count": 5,
   "id": "595a1f12-7833-4b31-bc8d-c433f9d4b3bc",
   "metadata": {},
   "outputs": [],
   "source": [
    "open_options = {\"access\": \"direct\", \"load\": True}"
   ]
  },
  {
   "cell_type": "code",
   "execution_count": 7,
   "id": "5c4b0ef4-627d-4ba5-a9b2-1a03a6c5d814",
   "metadata": {},
   "outputs": [
    {
     "name": "stdout",
     "output_type": "stream",
     "text": [
      "CPU times: user 33.2 ms, sys: 221 μs, total: 33.4 ms\n",
      "Wall time: 219 ms\n"
     ]
    }
   ],
   "source": [
    "%%time\n",
    "first_result_root = earthaccess.open_virtual_dataset(results[0], **open_options)"
   ]
  },
  {
   "cell_type": "markdown",
   "id": "ceeb1e9b-b0ba-46ea-a14e-0dd45f7419cd",
   "metadata": {},
   "source": [
    "CPU times: user 46.5 ms, sys: 0 ns, total: 46.5 ms\n",
    "Wall time: 235 ms\n",
    "\n",
    "CPU times: user 53.3 ms, sys: 1.58 ms, total: 54.9 ms\n",
    "Wall time: 881 ms\n",
    "\n",
    "CPU times: user 56 ms, sys: 0 ns, total: 56 ms\n",
    "Wall time: 281 ms\n",
    "\n",
    "CPU times: user 53.7 ms, sys: 0 ns, total: 53.7 ms\n",
    "Wall time: 249 ms"
   ]
  },
  {
   "cell_type": "markdown",
   "id": "d84190fc-99ac-4cab-9547-f26303694737",
   "metadata": {},
   "source": [
    "### Case 2"
   ]
  },
  {
   "cell_type": "code",
   "execution_count": 9,
   "id": "91238e2c-433d-494c-a45c-20d3b2a65569",
   "metadata": {},
   "outputs": [
    {
     "data": {
      "application/vnd.jupyter.widget-view+json": {
       "model_id": "0ede255e57ef428da0fc242ce3ac74d8",
       "version_major": 2,
       "version_minor": 0
      },
      "text/plain": [
       "QUEUEING TASKS | :   0%|          | 0/1 [00:00<?, ?it/s]"
      ]
     },
     "metadata": {},
     "output_type": "display_data"
    },
    {
     "data": {
      "application/vnd.jupyter.widget-view+json": {
       "model_id": "7f261d0df8bb4fa0a0d9f26f83372110",
       "version_major": 2,
       "version_minor": 0
      },
      "text/plain": [
       "PROCESSING TASKS | :   0%|          | 0/1 [00:00<?, ?it/s]"
      ]
     },
     "metadata": {},
     "output_type": "display_data"
    },
    {
     "data": {
      "application/vnd.jupyter.widget-view+json": {
       "model_id": "8af22e66d334401a9fe670f980a09b3b",
       "version_major": 2,
       "version_minor": 0
      },
      "text/plain": [
       "COLLECTING RESULTS | :   0%|          | 0/1 [00:00<?, ?it/s]"
      ]
     },
     "metadata": {},
     "output_type": "display_data"
    },
    {
     "name": "stdout",
     "output_type": "stream",
     "text": [
      "CPU times: user 2.8 s, sys: 2.44 s, total: 5.25 s\n",
      "Wall time: 12.5 s\n"
     ]
    }
   ],
   "source": [
    "%%time\n",
    "first_dataset = xr.open_dataset(earthaccess.open([results[0]])[0])"
   ]
  },
  {
   "cell_type": "markdown",
   "id": "0b7f866f-ad89-4e72-9700-4e1ed1195c75",
   "metadata": {},
   "source": [
    "CPU times: user 2.8 s, sys: 3.32 s, total: 6.11 s\n",
    "Wall time: 17.5 s\n",
    "\n",
    "CPU times: user 2.93 s, sys: 2.24 s, total: 5.16 s\n",
    "Wall time: 12.3 s\n",
    "\n",
    "CPU times: user 2.81 s, sys: 2.41 s, total: 5.22 s\n",
    "Wall time: 12.4 s\n",
    "\n",
    "CPU times: user 2.82 s, sys: 2.26 s, total: 5.08 s\n",
    "Wall time: 12.5 s"
   ]
  },
  {
   "cell_type": "markdown",
   "id": "2c752f56-dfd4-43d0-a786-28446d95ddb0",
   "metadata": {},
   "source": [
    "## Opening Multiple Granules"
   ]
  },
  {
   "cell_type": "markdown",
   "id": "cfafb645-1e9b-46b1-98c3-55cb4bbe9678",
   "metadata": {},
   "source": [
    "### Case 3"
   ]
  },
  {
   "cell_type": "markdown",
   "id": "69ca9042-11f1-42da-88eb-39086739555a",
   "metadata": {},
   "source": [
    "Because TEMPO data are processed and archived in a netCDF4 format using a group hierarchy, we open each group and then merge them together.\n",
    "\n",
    "Options to set before opening:\n",
    "- `load=True` works\n",
    "- `load=False` results in `KeyError: \"no index found for coordinate 'longitude'\"` because it creates `ManifestArray`s without indexes (see the [earthaccess documentation here (link)](https://github.com/nsidc/earthaccess/blob/7f5fe5d2e42343b6d7948338255cf9bb8cdb2775/earthaccess/dmrpp_zarr.py#L36C456-L36C502))"
   ]
  },
  {
   "cell_type": "code",
   "execution_count": null,
   "id": "e32a15a1-e9ae-4335-93da-7075f567cb1c",
   "metadata": {},
   "outputs": [],
   "source": [
    "# from dask.distributed import LocalCluster, Client\n",
    "\n",
    "# if \"dask_client\" not in locals():\n",
    "#     # cluster = LocalCluster(threads_per_worker=1)\n",
    "#     cluster = LocalCluster()\n",
    "#     dask_client = Client(cluster)\n",
    "\n",
    "# dask_client"
   ]
  },
  {
   "cell_type": "code",
   "execution_count": 10,
   "id": "4a5f96bd-c21a-4563-87d8-76110e1ffbed",
   "metadata": {},
   "outputs": [],
   "source": [
    "open_options = {\n",
    "    \"access\": \"direct\",\n",
    "    \"load\": True,\n",
    "    \"concat_dim\": \"time\",\n",
    "    \"coords\": \"minimal\",\n",
    "    \"compat\": \"override\",\n",
    "    \"join\": \"override\",\n",
    "    \"combine_attrs\": \"override\",\n",
    "    \"parallel\": True,\n",
    "}"
   ]
  },
  {
   "cell_type": "markdown",
   "id": "2fb9cb42-5b76-4a63-a9b2-52ffb3c9fd8a",
   "metadata": {},
   "source": [
    "Open root, product, and geolocation groups of the granules."
   ]
  },
  {
   "cell_type": "code",
   "execution_count": 15,
   "id": "defaf2cb-5efd-44aa-b6c8-a53ce4990aa0",
   "metadata": {},
   "outputs": [
    {
     "name": "stdout",
     "output_type": "stream",
     "text": [
      "[########################################] | 100% Completed | 138.63 s\n",
      "CPU times: user 1min 21s, sys: 3.47 s, total: 1min 24s\n",
      "Wall time: 3min 51s\n"
     ]
    }
   ],
   "source": [
    "%%time\n",
    "result_root = earthaccess.open_virtual_mfdataset(granules=results, **open_options)"
   ]
  },
  {
   "cell_type": "markdown",
   "id": "59fbcb5d-7491-4fbe-a9b3-0cc789c75d60",
   "metadata": {},
   "source": [
    "\n",
    "##### with `load=True`, and running `open_virtual_mfdataset()` for the root group only\n",
    "\n",
    "\n",
    "CPU times: user 1min 21s, sys: 3.55 s, total: 1min 25s\n",
    "Wall time: 4min 5s\n",
    "\n",
    "CPU times: user 1min 21s, sys: 3.32 s, total: 1min 24s\n",
    "Wall time: 3min 58s\n",
    "\n",
    "CPU times: user 1min 22s, sys: 3.43 s, total: 1min 25s\n",
    "Wall time: 3min 55s\n",
    "\n",
    "CPU times: user 1min 21s, sys: 3.47 s, total: 1min 24s\n",
    "Wall time: 3min 51s"
   ]
  },
  {
   "cell_type": "markdown",
   "id": "f9dfb7a1-d96e-4584-baa8-2ed61d40731f",
   "metadata": {},
   "source": [
    "### Case 4"
   ]
  },
  {
   "cell_type": "code",
   "execution_count": 36,
   "id": "facf66bc-4cb3-43dd-8ff4-42f5fd2461b0",
   "metadata": {},
   "outputs": [
    {
     "name": "stdout",
     "output_type": "stream",
     "text": [
      "CPU times: user 19.9 s, sys: 12.2 s, total: 32.2 s\n",
      "Wall time: 2min 52s\n"
     ]
    },
    {
     "data": {
      "text/plain": [
       "[PosixPath('/tmp/TEMPO_NO2_L3_V03_20240111T125625Z_S002.nc'),\n",
       " PosixPath('/tmp/TEMPO_NO2_L3_V03_20240111T133630Z_S003.nc'),\n",
       " PosixPath('/tmp/TEMPO_NO2_L3_V03_20240111T141635Z_S004.nc'),\n",
       " PosixPath('/tmp/TEMPO_NO2_L3_V03_20240111T151635Z_S005.nc'),\n",
       " PosixPath('/tmp/TEMPO_NO2_L3_V03_20240111T161635Z_S006.nc'),\n",
       " PosixPath('/tmp/TEMPO_NO2_L3_V03_20240111T171635Z_S007.nc'),\n",
       " PosixPath('/tmp/TEMPO_NO2_L3_V03_20240111T181635Z_S008.nc'),\n",
       " PosixPath('/tmp/TEMPO_NO2_L3_V03_20240111T191635Z_S009.nc'),\n",
       " PosixPath('/tmp/TEMPO_NO2_L3_V03_20240111T201635Z_S010.nc'),\n",
       " PosixPath('/tmp/TEMPO_NO2_L3_V03_20240111T211635Z_S011.nc')]"
      ]
     },
     "execution_count": 36,
     "metadata": {},
     "output_type": "execute_result"
    }
   ],
   "source": [
    "%%time\n",
    "earthaccess.download(results[0:10], local_path=\"/tmp/\")"
   ]
  },
  {
   "cell_type": "markdown",
   "id": "5e2dc68e-37dc-46e2-8412-ef9fe40fc28c",
   "metadata": {},
   "source": [
    "CPU times: user 11.1 s, sys: 8.26 s, total: 19.4 s\n",
    "Wall time: 2min 58s\n",
    "\n",
    "CPU times: user 15.5 s, sys: 10.7 s, total: 26.1 s\n",
    "Wall time: 3min 6s\n",
    "\n",
    "CPU times: user 11.6 s, sys: 9.36 s, total: 21 s\n",
    "Wall time: 2min 40s\n",
    "\n",
    "CPU times: user 19.9 s, sys: 12.2 s, total: 32.2 s\n",
    "Wall time: 2min 52s"
   ]
  },
  {
   "cell_type": "code",
   "execution_count": null,
   "id": "4bf50989-db38-4b5a-925e-f8c68e4cc835",
   "metadata": {},
   "outputs": [],
   "source": [
    "open_options = {\n",
    "    \"concat_dim\": \"time\",\n",
    "    \"coords\": \"minimal\",\n",
    "    \"compat\": \"override\",\n",
    "    \"join\": \"override\",\n",
    "    \"combine_attrs\": \"override\",\n",
    "    \"combine\": \"nested\",\n",
    "    \"parallel\": True,\n",
    "}"
   ]
  },
  {
   "cell_type": "code",
   "execution_count": null,
   "id": "a3d4f402-918f-48bc-885a-39bf5fb6b482",
   "metadata": {},
   "outputs": [],
   "source": [
    "# %%time\n",
    "# opened_datasets = xr.open_mfdataset(earthaccess.open(results), **open_options)"
   ]
  },
  {
   "cell_type": "code",
   "execution_count": null,
   "id": "223545d9-aa52-42a9-ba44-2a28dfea3f5d",
   "metadata": {},
   "outputs": [],
   "source": [
    "result_product = earthaccess.open_virtual_mfdataset(\n",
    "    granules=results, group=\"product\", **open_options\n",
    ")\n",
    "result_geolocation = earthaccess.open_virtual_mfdataset(\n",
    "    granules=results, group=\"geolocation\", **open_options\n",
    ")"
   ]
  },
  {
   "cell_type": "markdown",
   "id": "c39b6d6a-0ad0-444b-bea0-734f41a1c838",
   "metadata": {},
   "source": [
    "Merge root groups with subgroups."
   ]
  },
  {
   "cell_type": "code",
   "execution_count": null,
   "id": "092a4b23-ac38-4622-9823-1b42ddb6a587",
   "metadata": {},
   "outputs": [],
   "source": [
    "%%time\n",
    "result_merged = xr.merge([result_root, result_product, result_geolocation])"
   ]
  },
  {
   "cell_type": "code",
   "execution_count": null,
   "id": "9ffc0e07-144a-43ad-94db-48bb3230c404",
   "metadata": {},
   "outputs": [],
   "source": [
    "result_merged"
   ]
  },
  {
   "cell_type": "markdown",
   "id": "fb83c3c2-c917-490e-8fde-e64f0aa572e4",
   "metadata": {},
   "source": [
    "# Subsetting, computing statistics, and plotting"
   ]
  },
  {
   "cell_type": "markdown",
   "id": "b5adafb1-3362-4b5e-8e7a-9171b49368e9",
   "metadata": {},
   "source": [
    "## Temporal Mean - a map showing an annual average\n",
    "\n"
   ]
  },
  {
   "cell_type": "code",
   "execution_count": null,
   "id": "082a8a83-412a-4552-a5a6-616974140410",
   "metadata": {},
   "outputs": [],
   "source": [
    "%%time\n",
    "temporal_mean_ds = (\n",
    "    result_merged.sel({\"longitude\": slice(-78, -74), \"latitude\": slice(35, 39)})\n",
    "    .where(result_merged[\"main_data_quality_flag\"] == 0)\n",
    "    .mean(dim=(\"time\"))\n",
    ")\n",
    "temporal_mean_ds"
   ]
  },
  {
   "cell_type": "code",
   "execution_count": null,
   "id": "0a507704-b598-4b61-87af-cae5c324364f",
   "metadata": {},
   "outputs": [],
   "source": [
    "%%time\n",
    "mean_vertical_column_trop = temporal_mean_ds[\"vertical_column_troposphere\"].compute()"
   ]
  },
  {
   "cell_type": "code",
   "execution_count": null,
   "id": "f0733bc1-c3d9-4c2a-bbf6-0c9942cce75b",
   "metadata": {},
   "outputs": [],
   "source": [
    "fig, ax = plt.subplots(subplot_kw={\"projection\": ccrs.PlateCarree()})\n",
    "\n",
    "mean_vertical_column_trop.squeeze().plot.contourf(ax=ax)\n",
    "ax.coastlines()\n",
    "ax.gridlines(\n",
    "    draw_labels=True,\n",
    "    dms=True,\n",
    "    x_inline=False,\n",
    "    y_inline=False,\n",
    ")"
   ]
  },
  {
   "cell_type": "markdown",
   "id": "65c386e7-dcc1-43ca-bbe2-a81169e240ee",
   "metadata": {},
   "source": [
    "## Spatial mean - a time series of area averages"
   ]
  },
  {
   "cell_type": "code",
   "execution_count": null,
   "id": "4ebf504b-d6f2-48e5-98ee-72d4645a129e",
   "metadata": {},
   "outputs": [],
   "source": [
    "%%time\n",
    "spatial_mean_ds = (\n",
    "    result_merged.sel({\"longitude\": slice(-78, -74), \"latitude\": slice(35, 39)})\n",
    "    .where(result_merged[\"main_data_quality_flag\"] == 0)\n",
    "    .mean(dim=(\"longitude\", \"latitude\"))\n",
    ")\n",
    "spatial_mean_ds"
   ]
  },
  {
   "cell_type": "code",
   "execution_count": null,
   "id": "50e68d63-beb0-4dbe-97a7-182e4c338b03",
   "metadata": {},
   "outputs": [],
   "source": [
    "%%time\n",
    "spatial_mean_vertical_column_trop = spatial_mean_ds[\n",
    "    \"vertical_column_troposphere\"\n",
    "].compute()"
   ]
  },
  {
   "cell_type": "code",
   "execution_count": null,
   "id": "9f10b7c5-e9ba-42be-94eb-faec55dfa667",
   "metadata": {},
   "outputs": [],
   "source": [
    "spatial_mean_vertical_column_trop.plot()\n",
    "plt.show()"
   ]
  },
  {
   "cell_type": "markdown",
   "id": "4c49910b-546f-4f47-a91d-8f6bee0aebf4",
   "metadata": {},
   "source": [
    "## Single scan subset"
   ]
  },
  {
   "cell_type": "code",
   "execution_count": null,
   "id": "eb4279f0-b837-4744-940e-98cc51be5788",
   "metadata": {},
   "outputs": [],
   "source": [
    "%%time\n",
    "subset_ds = result_merged.sel(\n",
    "    {\n",
    "        \"longitude\": slice(-78, -74),\n",
    "        \"latitude\": slice(35, 39),\n",
    "        \"time\": slice(\n",
    "            np.datetime64(\"2024-01-11T13:00:00\"), np.datetime64(\"2024-01-11T14:00:00\")\n",
    "        ),\n",
    "    }\n",
    ").where(result_merged[\"main_data_quality_flag\"] == 0)\n",
    "subset_ds"
   ]
  },
  {
   "cell_type": "code",
   "execution_count": null,
   "id": "8e35dfc9-b019-42cf-8a2e-17e50da0ad14",
   "metadata": {},
   "outputs": [],
   "source": [
    "%%time\n",
    "subset_vertical_column_trop = subset_ds[\"vertical_column_troposphere\"].compute()"
   ]
  },
  {
   "cell_type": "code",
   "execution_count": null,
   "id": "8d3660d3-c2a9-41fe-8b96-3f13ee143801",
   "metadata": {},
   "outputs": [],
   "source": [
    "fig, ax = plt.subplots(subplot_kw={\"projection\": ccrs.PlateCarree()})\n",
    "\n",
    "subset_vertical_column_trop.squeeze().plot.contourf(ax=ax)\n",
    "ax.coastlines()\n",
    "ax.gridlines(\n",
    "    draw_labels=True,\n",
    "    dms=True,\n",
    "    x_inline=False,\n",
    "    y_inline=False,\n",
    ")\n",
    "plt.show()"
   ]
  },
  {
   "cell_type": "code",
   "execution_count": null,
   "id": "b3b6b034-6b49-4787-b3d3-ab80b2198a83",
   "metadata": {},
   "outputs": [],
   "source": []
  }
 ],
 "metadata": {
  "kernelspec": {
   "display_name": "Python 3 (ipykernel)",
   "language": "python",
   "name": "python3"
  },
  "language_info": {
   "codemirror_mode": {
    "name": "ipython",
    "version": 3
   },
   "file_extension": ".py",
   "mimetype": "text/x-python",
   "name": "python",
   "nbconvert_exporter": "python",
   "pygments_lexer": "ipython3",
   "version": "3.11.11"
  }
 },
 "nbformat": 4,
 "nbformat_minor": 5
}
